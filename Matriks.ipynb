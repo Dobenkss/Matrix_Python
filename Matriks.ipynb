{
  "nbformat": 4,
  "nbformat_minor": 0,
  "metadata": {
    "colab": {
      "provenance": [],
      "authorship_tag": "ABX9TyN7IW/0oiD7zTGH0ZBGM+/H",
      "include_colab_link": true
    },
    "kernelspec": {
      "name": "python3",
      "display_name": "Python 3"
    },
    "language_info": {
      "name": "python"
    }
  },
  "cells": [
    {
      "cell_type": "markdown",
      "metadata": {
        "id": "view-in-github",
        "colab_type": "text"
      },
      "source": [
        "<a href=\"https://colab.research.google.com/github/Dobenkss/Matrix_Python/blob/main/Matriks.ipynb\" target=\"_parent\"><img src=\"https://colab.research.google.com/assets/colab-badge.svg\" alt=\"Open In Colab\"/></a>"
      ]
    },
    {
      "cell_type": "markdown",
      "source": [
        "NIM : 24.21.1587\n",
        "NAMA : Abhipraya Rasendriya Atma Ardany\n",
        "link : https://colab.research.google.com/drive/1TM-WQqDO8kAlv33fuIvjqkwnDZ6W4Hau?usp=sharing"
      ],
      "metadata": {
        "id": "IIWZjy42J1PR"
      }
    },
    {
      "cell_type": "code",
      "execution_count": null,
      "metadata": {
        "colab": {
          "base_uri": "https://localhost:8080/"
        },
        "id": "wmx-HpH29Uac",
        "outputId": "9f39e0a1-9365-486f-e312-4b81bdab7493"
      },
      "outputs": [
        {
          "output_type": "stream",
          "name": "stdout",
          "text": [
            "Hasil penjumlahan matriks1 dan matriks2:\n",
            "[3, 5, 7]\n",
            "[9, 11, 13]\n"
          ]
        }
      ],
      "source": [
        "#PENJUMLAHAN\n",
        "def tambah_matriks(A, B):\n",
        "    jumlah_baris = len(A)\n",
        "    jumlah_kolom = len(A[0])\n",
        "\n",
        "    if len(B) != jumlah_baris or len(B[0]) != jumlah_kolom:\n",
        "        raise ValueError(\"Dimensi matriks tidak sesuai untuk penjumlahan.\")\n",
        "\n",
        "    C = [[0 for _ in range(jumlah_kolom)] for _ in range(jumlah_baris)]\n",
        "\n",
        "    for i in range(jumlah_baris):\n",
        "        for j in range(jumlah_kolom):\n",
        "            C[i][j] = A[i][j] + B[i][j]\n",
        "\n",
        "    return C\n",
        "\n",
        "matriks1 = [\n",
        "    [2, 3, 4],\n",
        "    [5, 6, 7]\n",
        "]\n",
        "\n",
        "matriks2 = [\n",
        "    [1, 2, 3],\n",
        "    [4, 5, 6]\n",
        "]\n",
        "\n",
        "hasil = tambah_matriks(matriks1, matriks2)\n",
        "\n",
        "print(\"Hasil penjumlahan matriks1 dan matriks2:\")\n",
        "for baris in hasil:\n",
        "    print(baris)"
      ]
    },
    {
      "cell_type": "code",
      "source": [
        "#PENGURANGAN\n",
        "def matrix(baris, kolom):\n",
        "  matriks = []\n",
        "  for i in range(baris):\n",
        "    baris_matriks = []\n",
        "    for j in range(kolom):\n",
        "      elemen = int(input(f\"Masukkan elemen matriks[{i+1}][{j+1}]: \"))\n",
        "      baris_matriks.append(elemen)\n",
        "    matriks.append(baris_matriks)\n",
        "  return matriks\n",
        "\n",
        "def print_matrix(matriks):\n",
        "  for baris in matriks:\n",
        "    print(\" \".join(map(str, baris)))\n",
        "\n",
        "def kurangi_matriks(matriks1, matriks2):\n",
        "  baris = len(matriks1)\n",
        "  kolom = len(matriks1[0])\n",
        "  hasil = []\n",
        "  for i in range(baris):\n",
        "    baris_hasil = []\n",
        "    for j in range(kolom):\n",
        "      baris_hasil.append(matriks1[i][j] - matriks2[i][j])\n",
        "    hasil.append(baris_hasil)\n",
        "  return hasil\n",
        "\n",
        "baris = int(input(\"Masukkan jumlah baris matriks: \"))\n",
        "kolom = int(input(\"Masukkan jumlah kolom matriks: \"))\n",
        "\n",
        "print(\"\\Input elemen untuk matriks pertama:\")\n",
        "matriks1 = matrix(baris, kolom)\n",
        "\n",
        "print(\"\\nInput elemen untuk matriks kedua:\")\n",
        "matriks2 = matrix(baris, kolom)\n",
        "\n",
        "hasil_pengurangan = kurangi_matriks(matriks1, matriks2)\n",
        "\n",
        "print(\"\\nHasil pengurangan matriks:\")\n",
        "print_matrix(hasil_pengurangan)"
      ],
      "metadata": {
        "colab": {
          "base_uri": "https://localhost:8080/"
        },
        "id": "IU_0A4S8Bp3p",
        "outputId": "7ffa862f-530e-4127-8fe8-25cd6c0dd223"
      },
      "execution_count": null,
      "outputs": [
        {
          "output_type": "stream",
          "name": "stdout",
          "text": [
            "Masukkan jumlah baris matriks: 2\n",
            "Masukkan jumlah kolom matriks: 2\n",
            "\\Input elemen untuk matriks pertama:\n",
            "Masukkan elemen matriks[1][1]: 5\n",
            "Masukkan elemen matriks[1][2]: 7\n",
            "Masukkan elemen matriks[2][1]: 3\n",
            "Masukkan elemen matriks[2][2]: 4\n",
            "\n",
            "Input elemen untuk matriks kedua:\n",
            "Masukkan elemen matriks[1][1]: 3\n",
            "Masukkan elemen matriks[1][2]: 2\n",
            "Masukkan elemen matriks[2][1]: 1\n",
            "Masukkan elemen matriks[2][2]: 2\n",
            "\n",
            "Hasil pengurangan matriks:\n",
            "2 5\n",
            "2 2\n"
          ]
        }
      ]
    },
    {
      "cell_type": "code",
      "source": [
        "def matrix(matriks1, matriks2):\n",
        "  result = [[0 for _ in range(5)] for _ in range(5)]\n",
        "\n",
        "  for i in range(5):\n",
        "    for j in range(5):\n",
        "      for k in range(5):\n",
        "        result[i][j] += matriks1[i][k] * matriks2[k][j]\n",
        "\n",
        "  return result\n",
        "\n",
        "def print_matrix(matriks):\n",
        "  for row in matriks:\n",
        "    print(row)\n",
        "\n",
        "def input_matrix(matrix_name):\n",
        "  martiks = []\n",
        "  print(f\"Masukkan elemen untuk matriks {matrix_name} (5x5):\")\n",
        "  for i in range(5):\n",
        "    row = list(map(int, input(f\"Baris {i+1}: \").split()))\n",
        "    martiks.append(row)\n",
        "  return martiks\n",
        "\n",
        "print(\"Operasi perkalian matriks 5x5\")\n",
        "matriks1 = input_matrix(\"Pertama\")\n",
        "matriks2 = input_matrix(\"Kedua\")\n",
        "\n",
        "hasil_perkalian = matrix(matriks1, matriks2)\n",
        "\n",
        "print(\"\\nHasil perkalian matriks:\")\n",
        "print_matrix(hasil_perkalian)"
      ],
      "metadata": {
        "colab": {
          "base_uri": "https://localhost:8080/"
        },
        "id": "Jn_sp-qMHf66",
        "outputId": "39fa9ff2-a46c-4098-c878-1a56f5c75144"
      },
      "execution_count": null,
      "outputs": [
        {
          "output_type": "stream",
          "name": "stdout",
          "text": [
            "Operasi perkalian matriks 5x5\n",
            "Masukkan elemen untuk matriks Pertama (5x5):\n",
            "Baris 1: 1 2 3 4 5\n",
            "Baris 2: 1 2 3 4 5\n",
            "Baris 3: 1 2 3 4 5\n",
            "Baris 4: 1 2 3 4 5\n",
            "Baris 5: 1 2 3 4 5\n",
            "Masukkan elemen untuk matriks Kedua (5x5):\n",
            "Baris 1: 5 4 3 2 1\n",
            "Baris 2: 5 4 3 2 1\n",
            "Baris 3: 5 4 3 2 1\n",
            "Baris 4: 5 4 3 2 1\n",
            "Baris 5: 5 4 3 2 1\n",
            "\n",
            "Hasil perkalian matriks:\n",
            "[75, 60, 45, 30, 15]\n",
            "[75, 60, 45, 30, 15]\n",
            "[75, 60, 45, 30, 15]\n",
            "[75, 60, 45, 30, 15]\n",
            "[75, 60, 45, 30, 15]\n"
          ]
        }
      ]
    }
  ]
}